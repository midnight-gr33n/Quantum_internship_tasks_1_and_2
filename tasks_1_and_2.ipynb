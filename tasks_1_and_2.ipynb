{
  "nbformat": 4,
  "nbformat_minor": 0,
  "metadata": {
    "colab": {
      "provenance": []
    },
    "kernelspec": {
      "name": "python3",
      "display_name": "Python 3"
    },
    "language_info": {
      "name": "python"
    }
  },
  "cells": [
    {
      "cell_type": "markdown",
      "source": [
        "**Task 1**"
      ],
      "metadata": {
        "id": "ma1jOfqPBh6p"
      }
    },
    {
      "cell_type": "code",
      "execution_count": null,
      "metadata": {
        "id": "IFbbGtd8BEvx"
      },
      "outputs": [],
      "source": [
        "import numpy as np"
      ]
    },
    {
      "cell_type": "code",
      "source": [
        "def calculate_sum(number: np.float64) -> np.float64:\n",
        "  sum = (1.0 + number) / 2.0 * number\n",
        "  return sum"
      ],
      "metadata": {
        "id": "rgP9C7iDBdTi"
      },
      "execution_count": null,
      "outputs": []
    },
    {
      "cell_type": "markdown",
      "source": [
        "**Task 2**"
      ],
      "metadata": {
        "id": "JYhu11EIBjzJ"
      }
    },
    {
      "cell_type": "code",
      "source": [
        "def calculate_islands(matrix: np.array) -> int:\n",
        "  intermediate_result = np.dot(matrix, np.ones((matrix.shape[1],)))\n",
        "  result = np.dot(np.ones((1, matrix.shape[0])), intermediate_result)\n",
        "  return int(result)"
      ],
      "metadata": {
        "id": "MTXd4x6PBlXp"
      },
      "execution_count": null,
      "outputs": []
    }
  ]
}